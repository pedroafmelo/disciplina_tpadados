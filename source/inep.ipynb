{
 "cells": [
  {
   "cell_type": "code",
   "execution_count": 33,
   "metadata": {},
   "outputs": [],
   "source": [
    "import pandas as pd\n",
    "from glob import glob\n",
    "\n",
    "dir_dados = \"C:\\\\Users\\\\user\\\\projeto_tpad\\\\dados\\\\EDUCAÇÃO\\\\inep\"\n",
    "\n",
    "lista = glob(f\"{dir_dados}/*/*.xls*\")"
   ]
  },
  {
   "cell_type": "code",
   "execution_count": 35,
   "metadata": {},
   "outputs": [
    {
     "data": {
      "text/plain": [
       "['C:\\\\Users\\\\user\\\\projeto_tpad\\\\dados\\\\EDUCAÇÃO\\\\inep\\\\tx_rend_brasil_regioes_ufs_2020\\\\tx_rend_brasil_regioes_ufs_2020.xlsx',\n",
       " 'C:\\\\Users\\\\user\\\\projeto_tpad\\\\dados\\\\EDUCAÇÃO\\\\inep\\\\tx_rend_brasil_regioes_ufs_2021\\\\tx_rend_brasil_regioes_ufs_2021.xlsx',\n",
       " 'C:\\\\Users\\\\user\\\\projeto_tpad\\\\dados\\\\EDUCAÇÃO\\\\inep\\\\tx_rend_brasil_regioes_ufs_2022\\\\tx_rend_brasil_regioes_ufs_2022.xlsx']"
      ]
     },
     "execution_count": 35,
     "metadata": {},
     "output_type": "execute_result"
    }
   ],
   "source": [
    "from os import path\n",
    "lista = glob(f\"{dir_dados}/*/*.xlsx\")\n",
    "\n",
    "lista = [i for i in lista if \"~$\" not in i]\n",
    "lista = [i for i in lista if \"UFS\" in path.basename(i.upper())]\n",
    "\n",
    "lista"
   ]
  },
  {
   "cell_type": "code",
   "execution_count": 98,
   "metadata": {},
   "outputs": [
    {
     "data": {
      "text/plain": [
       "'class DFInep:\\n\\n    def __str__(self):\\n        util = print(\"Utilize esta classe para ler dados inep corretamente\")\\n        return str(util)\\n\\n    def archive(self, num):\\n        lista = glob(f\"{dir_dados}/*/*.xlsx\")\\n\\n        lista = [i for i in lista if \"~$\" not in i]\\n        lista = [i for i in lista if \"UFS\" in path.basename(i.upper())]\\n\\n        lista\\n        file = lista[num]\\n        return file\\n\\n    def skipin(self, arquivo: str, nlinhas: int = 2):\\n        skip = (\\n        pd.read_excel(arquivo, nrows = nlinhas, usecols = [0], names = [\"coluna\"])\\n        .assign(coluna = lambda x: pd.to_numeric(x.coluna, errors = \"coerce\"))\\n        .dropna()\\n        .reset_index()\\n        .loc[0]\\n        .to_frame()\\n\\n        ).loc[\"index\"][0]\\n\\n        return skip\\n\\n\\n    def ler(self, base, n_linhas):\\n        df = pd.read_excel(base, skiprows = int(n_linhas))\\n        return df\\n\\n'"
      ]
     },
     "execution_count": 98,
     "metadata": {},
     "output_type": "execute_result"
    }
   ],
   "source": [
    "\"\"\"class DFInep:\n",
    "\n",
    "    def __str__(self):\n",
    "        util = print(\"Utilize esta classe para ler dados inep corretamente\")\n",
    "        return str(util)\n",
    "\n",
    "    def archive(self, num):\n",
    "        lista = glob(f\"{dir_dados}/*/*.xlsx\")\n",
    "\n",
    "        lista = [i for i in lista if \"~$\" not in i]\n",
    "        lista = [i for i in lista if \"UFS\" in path.basename(i.upper())]\n",
    "\n",
    "        lista\n",
    "        file = lista[num]\n",
    "        return file\n",
    "\n",
    "    def skipin(self, arquivo: str, nlinhas: int = 2):\n",
    "        skip = (\n",
    "        pd.read_excel(arquivo, nrows = nlinhas, usecols = [0], names = [\"coluna\"])\n",
    "        .assign(coluna = lambda x: pd.to_numeric(x.coluna, errors = \"coerce\"))\n",
    "        .dropna()\n",
    "        .reset_index()\n",
    "        .loc[0]\n",
    "        .to_frame()\n",
    "\n",
    "        ).loc[\"index\"][0]\n",
    "\n",
    "        return skip\n",
    "\n",
    "\n",
    "    def ler(self, base, n_linhas):\n",
    "        df = pd.read_excel(base, skiprows = int(n_linhas))\n",
    "        return df\n",
    "\n",
    "\"\"\""
   ]
  },
  {
   "cell_type": "code",
   "execution_count": 93,
   "metadata": {},
   "outputs": [
    {
     "ename": "KeyError",
     "evalue": "0",
     "output_type": "error",
     "traceback": [
      "\u001b[1;31m---------------------------------------------------------------------------\u001b[0m",
      "\u001b[1;31mValueError\u001b[0m                                Traceback (most recent call last)",
      "File \u001b[1;32mc:\\Users\\user\\AppData\\Local\\Programs\\Python\\Python310\\lib\\site-packages\\pandas\\core\\indexes\\range.py:345\u001b[0m, in \u001b[0;36mRangeIndex.get_loc\u001b[1;34m(self, key)\u001b[0m\n\u001b[0;32m    344\u001b[0m \u001b[39mtry\u001b[39;00m:\n\u001b[1;32m--> 345\u001b[0m     \u001b[39mreturn\u001b[39;00m \u001b[39mself\u001b[39;49m\u001b[39m.\u001b[39;49m_range\u001b[39m.\u001b[39;49mindex(new_key)\n\u001b[0;32m    346\u001b[0m \u001b[39mexcept\u001b[39;00m \u001b[39mValueError\u001b[39;00m \u001b[39mas\u001b[39;00m err:\n",
      "\u001b[1;31mValueError\u001b[0m: 0 is not in range",
      "\nThe above exception was the direct cause of the following exception:\n",
      "\u001b[1;31mKeyError\u001b[0m                                  Traceback (most recent call last)",
      "\u001b[1;32mc:\\Users\\user\\projeto_tpad\\source\\inep.ipynb Cell 5\u001b[0m line \u001b[0;36m1\n\u001b[1;32m----> <a href='vscode-notebook-cell:/c%3A/Users/user/projeto_tpad/source/inep.ipynb#X10sZmlsZQ%3D%3D?line=0'>1</a>\u001b[0m cla\u001b[39m.\u001b[39mler(cla\u001b[39m.\u001b[39marchive(\u001b[39m0\u001b[39m), cla\u001b[39m.\u001b[39;49mskipin(cla\u001b[39m.\u001b[39;49marchive(\u001b[39m0\u001b[39;49m)))\n",
      "\u001b[1;32mc:\\Users\\user\\projeto_tpad\\source\\inep.ipynb Cell 5\u001b[0m line \u001b[0;36m1\n\u001b[0;32m     <a href='vscode-notebook-cell:/c%3A/Users/user/projeto_tpad/source/inep.ipynb#X10sZmlsZQ%3D%3D?line=16'>17</a>\u001b[0m \u001b[39mdef\u001b[39;00m \u001b[39mskipin\u001b[39m(\u001b[39mself\u001b[39m, arquivo: \u001b[39mstr\u001b[39m, nlinhas: \u001b[39mint\u001b[39m \u001b[39m=\u001b[39m \u001b[39m2\u001b[39m):\n\u001b[0;32m     <a href='vscode-notebook-cell:/c%3A/Users/user/projeto_tpad/source/inep.ipynb#X10sZmlsZQ%3D%3D?line=17'>18</a>\u001b[0m     skip \u001b[39m=\u001b[39m (\n\u001b[1;32m---> <a href='vscode-notebook-cell:/c%3A/Users/user/projeto_tpad/source/inep.ipynb#X10sZmlsZQ%3D%3D?line=18'>19</a>\u001b[0m     pd\u001b[39m.\u001b[39;49mread_excel(arquivo, nrows \u001b[39m=\u001b[39;49m nlinhas, usecols \u001b[39m=\u001b[39;49m [\u001b[39m0\u001b[39;49m], names \u001b[39m=\u001b[39;49m [\u001b[39m\"\u001b[39;49m\u001b[39mcoluna\u001b[39;49m\u001b[39m\"\u001b[39;49m])\n\u001b[0;32m     <a href='vscode-notebook-cell:/c%3A/Users/user/projeto_tpad/source/inep.ipynb#X10sZmlsZQ%3D%3D?line=19'>20</a>\u001b[0m     \u001b[39m.\u001b[39;49massign(coluna \u001b[39m=\u001b[39;49m \u001b[39mlambda\u001b[39;49;00m x: pd\u001b[39m.\u001b[39;49mto_numeric(x\u001b[39m.\u001b[39;49mcoluna, errors \u001b[39m=\u001b[39;49m \u001b[39m\"\u001b[39;49m\u001b[39mcoerce\u001b[39;49m\u001b[39m\"\u001b[39;49m))\n\u001b[0;32m     <a href='vscode-notebook-cell:/c%3A/Users/user/projeto_tpad/source/inep.ipynb#X10sZmlsZQ%3D%3D?line=20'>21</a>\u001b[0m     \u001b[39m.\u001b[39;49mdropna()\n\u001b[0;32m     <a href='vscode-notebook-cell:/c%3A/Users/user/projeto_tpad/source/inep.ipynb#X10sZmlsZQ%3D%3D?line=21'>22</a>\u001b[0m     \u001b[39m.\u001b[39;49mreset_index()\n\u001b[0;32m     <a href='vscode-notebook-cell:/c%3A/Users/user/projeto_tpad/source/inep.ipynb#X10sZmlsZQ%3D%3D?line=22'>23</a>\u001b[0m     \u001b[39m.\u001b[39;49mloc[\u001b[39m0\u001b[39;49m]\n\u001b[0;32m     <a href='vscode-notebook-cell:/c%3A/Users/user/projeto_tpad/source/inep.ipynb#X10sZmlsZQ%3D%3D?line=23'>24</a>\u001b[0m     \u001b[39m.\u001b[39mto_frame()\n\u001b[0;32m     <a href='vscode-notebook-cell:/c%3A/Users/user/projeto_tpad/source/inep.ipynb#X10sZmlsZQ%3D%3D?line=24'>25</a>\u001b[0m \n\u001b[0;32m     <a href='vscode-notebook-cell:/c%3A/Users/user/projeto_tpad/source/inep.ipynb#X10sZmlsZQ%3D%3D?line=25'>26</a>\u001b[0m     )\u001b[39m.\u001b[39mloc[\u001b[39m\"\u001b[39m\u001b[39mindex\u001b[39m\u001b[39m\"\u001b[39m][\u001b[39m0\u001b[39m]\n\u001b[0;32m     <a href='vscode-notebook-cell:/c%3A/Users/user/projeto_tpad/source/inep.ipynb#X10sZmlsZQ%3D%3D?line=27'>28</a>\u001b[0m     \u001b[39mreturn\u001b[39;00m skip\n",
      "File \u001b[1;32mc:\\Users\\user\\AppData\\Local\\Programs\\Python\\Python310\\lib\\site-packages\\pandas\\core\\indexing.py:1103\u001b[0m, in \u001b[0;36m_LocationIndexer.__getitem__\u001b[1;34m(self, key)\u001b[0m\n\u001b[0;32m   1100\u001b[0m axis \u001b[39m=\u001b[39m \u001b[39mself\u001b[39m\u001b[39m.\u001b[39maxis \u001b[39mor\u001b[39;00m \u001b[39m0\u001b[39m\n\u001b[0;32m   1102\u001b[0m maybe_callable \u001b[39m=\u001b[39m com\u001b[39m.\u001b[39mapply_if_callable(key, \u001b[39mself\u001b[39m\u001b[39m.\u001b[39mobj)\n\u001b[1;32m-> 1103\u001b[0m \u001b[39mreturn\u001b[39;00m \u001b[39mself\u001b[39;49m\u001b[39m.\u001b[39;49m_getitem_axis(maybe_callable, axis\u001b[39m=\u001b[39;49maxis)\n",
      "File \u001b[1;32mc:\\Users\\user\\AppData\\Local\\Programs\\Python\\Python310\\lib\\site-packages\\pandas\\core\\indexing.py:1343\u001b[0m, in \u001b[0;36m_LocIndexer._getitem_axis\u001b[1;34m(self, key, axis)\u001b[0m\n\u001b[0;32m   1341\u001b[0m \u001b[39m# fall thru to straight lookup\u001b[39;00m\n\u001b[0;32m   1342\u001b[0m \u001b[39mself\u001b[39m\u001b[39m.\u001b[39m_validate_key(key, axis)\n\u001b[1;32m-> 1343\u001b[0m \u001b[39mreturn\u001b[39;00m \u001b[39mself\u001b[39;49m\u001b[39m.\u001b[39;49m_get_label(key, axis\u001b[39m=\u001b[39;49maxis)\n",
      "File \u001b[1;32mc:\\Users\\user\\AppData\\Local\\Programs\\Python\\Python310\\lib\\site-packages\\pandas\\core\\indexing.py:1293\u001b[0m, in \u001b[0;36m_LocIndexer._get_label\u001b[1;34m(self, label, axis)\u001b[0m\n\u001b[0;32m   1291\u001b[0m \u001b[39mdef\u001b[39;00m \u001b[39m_get_label\u001b[39m(\u001b[39mself\u001b[39m, label, axis: AxisInt):\n\u001b[0;32m   1292\u001b[0m     \u001b[39m# GH#5567 this will fail if the label is not present in the axis.\u001b[39;00m\n\u001b[1;32m-> 1293\u001b[0m     \u001b[39mreturn\u001b[39;00m \u001b[39mself\u001b[39;49m\u001b[39m.\u001b[39;49mobj\u001b[39m.\u001b[39;49mxs(label, axis\u001b[39m=\u001b[39;49maxis)\n",
      "File \u001b[1;32mc:\\Users\\user\\AppData\\Local\\Programs\\Python\\Python310\\lib\\site-packages\\pandas\\core\\generic.py:4095\u001b[0m, in \u001b[0;36mNDFrame.xs\u001b[1;34m(self, key, axis, level, drop_level)\u001b[0m\n\u001b[0;32m   4093\u001b[0m             new_index \u001b[39m=\u001b[39m index[loc]\n\u001b[0;32m   4094\u001b[0m \u001b[39melse\u001b[39;00m:\n\u001b[1;32m-> 4095\u001b[0m     loc \u001b[39m=\u001b[39m index\u001b[39m.\u001b[39;49mget_loc(key)\n\u001b[0;32m   4097\u001b[0m     \u001b[39mif\u001b[39;00m \u001b[39misinstance\u001b[39m(loc, np\u001b[39m.\u001b[39mndarray):\n\u001b[0;32m   4098\u001b[0m         \u001b[39mif\u001b[39;00m loc\u001b[39m.\u001b[39mdtype \u001b[39m==\u001b[39m np\u001b[39m.\u001b[39mbool_:\n",
      "File \u001b[1;32mc:\\Users\\user\\AppData\\Local\\Programs\\Python\\Python310\\lib\\site-packages\\pandas\\core\\indexes\\range.py:347\u001b[0m, in \u001b[0;36mRangeIndex.get_loc\u001b[1;34m(self, key)\u001b[0m\n\u001b[0;32m    345\u001b[0m         \u001b[39mreturn\u001b[39;00m \u001b[39mself\u001b[39m\u001b[39m.\u001b[39m_range\u001b[39m.\u001b[39mindex(new_key)\n\u001b[0;32m    346\u001b[0m     \u001b[39mexcept\u001b[39;00m \u001b[39mValueError\u001b[39;00m \u001b[39mas\u001b[39;00m err:\n\u001b[1;32m--> 347\u001b[0m         \u001b[39mraise\u001b[39;00m \u001b[39mKeyError\u001b[39;00m(key) \u001b[39mfrom\u001b[39;00m \u001b[39merr\u001b[39;00m\n\u001b[0;32m    348\u001b[0m \u001b[39mif\u001b[39;00m \u001b[39misinstance\u001b[39m(key, Hashable):\n\u001b[0;32m    349\u001b[0m     \u001b[39mraise\u001b[39;00m \u001b[39mKeyError\u001b[39;00m(key)\n",
      "\u001b[1;31mKeyError\u001b[0m: 0"
     ]
    }
   ],
   "source": [
    "cla.ler(cla.archive(0), cla.skipin(cla.archive(0)))"
   ]
  },
  {
   "cell_type": "code",
   "execution_count": 11,
   "metadata": {},
   "outputs": [],
   "source": [
    "\n",
    "lista = glob(f\"{dir_dados}/*/*.xlsx\")\n",
    "\n",
    "lista = [i for i in lista if \"~$\" not in i]\n",
    "lista = [i for i in lista if \"UFS\" in path.basename(i.upper())]\n",
    "\n",
    "padrao_nomes = list(pd.read_excel(lista[-1], nrows = 0, skiprows = skipin(lista[-1])).columns)\n",
    "\n",
    "def archive(num):\n",
    "    file = lista[num]\n",
    "    return file\n",
    "\n",
    "def skipin(arquivo):\n",
    "    skip = (\n",
    "        pd.read_excel(arquivo, nrows = 10, usecols = [0], names = [\"coluna\"])\n",
    "        .assign(coluna = lambda x: pd.to_numeric(x.coluna, errors = \"coerce\"))\n",
    "        .dropna()\n",
    "        .reset_index()\n",
    "        .loc[0]\n",
    "        .to_frame()\n",
    "    ).loc[\"index\"][0]\n",
    "    return skip\n",
    "\n",
    "\n",
    "def ler(base, n_linhas):\n",
    "    df = pd.read_excel(base, skiprows = int(n_linhas))\n",
    "    return df"
   ]
  }
 ],
 "metadata": {
  "kernelspec": {
   "display_name": "Python 3",
   "language": "python",
   "name": "python3"
  },
  "language_info": {
   "codemirror_mode": {
    "name": "ipython",
    "version": 3
   },
   "file_extension": ".py",
   "mimetype": "text/x-python",
   "name": "python",
   "nbconvert_exporter": "python",
   "pygments_lexer": "ipython3",
   "version": "3.10.2"
  },
  "orig_nbformat": 4
 },
 "nbformat": 4,
 "nbformat_minor": 2
}
